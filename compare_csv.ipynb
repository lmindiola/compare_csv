{
 "cells": [
  {
   "cell_type": "code",
   "execution_count": null,
   "source": [
    "import pandas as pd\n",
    "import csv"
   ],
   "outputs": [],
   "metadata": {}
  },
  {
   "cell_type": "code",
   "execution_count": null,
   "source": [
    "data = pd.read_csv('./data1.csv')\n",
    "data2 = pd.read_csv('./data2.csv')"
   ],
   "outputs": [],
   "metadata": {}
  },
  {
   "cell_type": "code",
   "execution_count": null,
   "source": [
    "data"
   ],
   "outputs": [],
   "metadata": {}
  },
  {
   "cell_type": "code",
   "execution_count": null,
   "source": [
    "data2"
   ],
   "outputs": [],
   "metadata": {}
  },
  {
   "cell_type": "code",
   "execution_count": null,
   "source": [
    "p1_e = []\n",
    "p2_e = []\n",
    "p1_u = []\n",
    "p2_u = []\n",
    "err_p1 = []\n",
    "err_p2 = []\n",
    "vol_u = []\n",
    "hora = []\n",
    "for i in list(data['ts']):\n",
    "    if i in list(data2['ts']):\n",
    "        u_p1 = float(data2[data2['ts']==i]['P1'].values)/1000\n",
    "        e_p1 =float(data[data['ts']==i]['P1'].values)\n",
    "        p1_u.append(u_p1)\n",
    "        p1_e.append(e_p1)\n",
    "        err_p1.append((e_p1-u_p1)/u_p1)\n",
    "\n",
    "        u_p2    =   float(data2[data2['ts']==i]['P2'].values)/1000\n",
    "        e_p2    =   float(data[data['ts']==i]['P2'].values)\n",
    "        p2_u.append(u_p2)\n",
    "        p2_e.append(e_p2)\n",
    "        err_p2.append((e_p2-u_p2)/u_p2)\n",
    "\n",
    "        vol_u.append(float(data2[data2['ts']==i]['voltaje'].values))\n",
    "        hora.append(i)\n",
    "\n"
   ],
   "outputs": [],
   "metadata": {}
  },
  {
   "cell_type": "code",
   "execution_count": null,
   "source": [
    "data_final = pd.DataFrame({\n",
    "    'hora' :hora,\n",
    "    'p1_e' :p1_e,\n",
    "    'p1_u' :p1_u,\n",
    "    'err_p1':err_p1,\n",
    "    'p2_e' :p2_e,\n",
    "    'p2_u' :p2_u,\n",
    "    'err_p2':err_p2,\n",
    "    'vol_u':vol_u\n",
    "    })"
   ],
   "outputs": [],
   "metadata": {}
  },
  {
   "cell_type": "code",
   "execution_count": null,
   "source": [
    "data_final"
   ],
   "outputs": [],
   "metadata": {}
  },
  {
   "cell_type": "code",
   "execution_count": null,
   "source": [
    "data_final.to_csv('./final.csv')"
   ],
   "outputs": [],
   "metadata": {}
  }
 ],
 "metadata": {
  "interpreter": {
   "hash": "2e3c1e8da6e821b0193601da5a0e541c0efda9704da45b6b820f5f4c317f2def"
  },
  "kernelspec": {
   "display_name": "Python 3.9.2 64-bit",
   "name": "python3"
  },
  "language_info": {
   "codemirror_mode": {
    "name": "ipython",
    "version": 3
   },
   "file_extension": ".py",
   "mimetype": "text/x-python",
   "name": "python",
   "nbconvert_exporter": "python",
   "pygments_lexer": "ipython3",
   "version": "3.9.2"
  },
  "orig_nbformat": 4
 },
 "nbformat": 4,
 "nbformat_minor": 2
}