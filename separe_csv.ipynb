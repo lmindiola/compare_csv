{
 "cells": [
  {
   "cell_type": "code",
   "execution_count": null,
   "source": [
    "import pandas as pd\n",
    "import csv"
   ],
   "outputs": [],
   "metadata": {}
  },
  {
   "cell_type": "code",
   "execution_count": null,
   "source": [
    "data = pd.read_csv('../data/data1.csv',sep=';')\n",
    "data"
   ],
   "outputs": [],
   "metadata": {}
  },
  {
   "cell_type": "code",
   "execution_count": null,
   "source": [
    "p1_u = []\n",
    "p2_u = []\n",
    "consumo= []\n",
    "vol_u = []\n",
    "hora = []\n",
    "fecha = []\n",
    "dias = 0\n",
    "dia_ini = ''\n",
    "lista = list(data['ts'])\n",
    "print(len(lista))\n",
    "dia_ini = int(str(lista[0])[8:10])\n",
    "j=0\n",
    "dia_ini"
   ],
   "outputs": [],
   "metadata": {}
  },
  {
   "cell_type": "code",
   "execution_count": null,
   "source": [
    "\n",
    "for i in lista:\n",
    "        u_p1 = float(data[data['ts']==i]['potencia 1'].values)\n",
    "        p1_u.append(u_p1)\n",
    "        u_p2 = float(data[data['ts']==i]['potencia 2'].values)\n",
    "        p2_u.append(u_p2)\n",
    "        vol_u = float(data[data['ts']==i]['voltaje'].values)\n",
    "        consumo.append((u_p1+u_p2))\n",
    "        tiempo = str(data[data['ts']==i]['ts'].values)\n",
    "        corte = tiempo.split(\"T\")\n",
    "        fecha.append(tiempo.split(\"T\")[0][2:])\n",
    "        hora.append(tiempo.split(\"T\")[1][:8])\n",
    "        if j+1 < len(lista) :\n",
    "                if dia_ini != int(str(lista[j+1])[8:10]) and int(str(lista[j+1])[11:13]) == 0 :\n",
    "                        dias=dias+1\n",
    "                        dia_ini = int(str(lista[j+1])[8:10])\n",
    "                j=j+1\n",
    "        \n",
    "dias\n"
   ],
   "outputs": [],
   "metadata": {}
  },
  {
   "cell_type": "code",
   "execution_count": null,
   "source": [
    "data_final = pd.DataFrame({\n",
    "    'hora' :hora,\n",
    "    'fecha': fecha,\n",
    "    'P1' :p1_u,\n",
    "    'P2' :p2_u,\n",
    "    'consumo': consumo\n",
    "    })"
   ],
   "outputs": [],
   "metadata": {}
  },
  {
   "cell_type": "code",
   "execution_count": null,
   "source": [
    "#data_final"
   ],
   "outputs": [],
   "metadata": {}
  },
  {
   "cell_type": "code",
   "execution_count": null,
   "source": [
    "data_final.to_csv('./final.csv')"
   ],
   "outputs": [],
   "metadata": {}
  }
 ],
 "metadata": {
  "interpreter": {
   "hash": "31f2aee4e71d21fbe5cf8b01ff0e069b9275f58929596ceb00d14d90e3e16cd6"
  },
  "kernelspec": {
   "name": "python3",
   "display_name": "Python 3.8.2 64-bit"
  },
  "language_info": {
   "codemirror_mode": {
    "name": "ipython",
    "version": 3
   },
   "file_extension": ".py",
   "mimetype": "text/x-python",
   "name": "python",
   "nbconvert_exporter": "python",
   "pygments_lexer": "ipython3",
   "version": "3.8.2"
  },
  "orig_nbformat": 4
 },
 "nbformat": 4,
 "nbformat_minor": 2
}