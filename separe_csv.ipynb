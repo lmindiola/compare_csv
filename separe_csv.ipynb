{
 "cells": [
  {
   "cell_type": "code",
   "execution_count": null,
   "source": [
    "import pandas as pd\n",
    "import csv"
   ],
   "outputs": [],
   "metadata": {}
  },
  {
   "cell_type": "code",
   "execution_count": null,
   "source": [
    "data = pd.read_csv('../../data/data1.csv',sep=';')\n",
    "data"
   ],
   "outputs": [],
   "metadata": {}
  },
  {
   "cell_type": "code",
   "execution_count": null,
   "source": [
    "p1_u = []\n",
    "p2_u = []\n",
    "consumo = []\n",
    "vol_u = []\n",
    "hora = []\n",
    "fecha = []\n",
    "dias = 0\n",
    "\n",
    "watt_hora = 0\n",
    "kw_hora = []\n",
    "xhora = []\n",
    "\n",
    "watt_dia = 0\n",
    "kw_dia = []\n",
    "xdia = []\n",
    "\n",
    "lista = list(data['ts'])\n",
    "dia_ini = int(str(lista[0])[8:10])\n",
    "print(dia_ini)\n",
    "hora_ini = int(str(lista[0])[11:13])\n",
    "print(hora_ini)\n",
    "j=0\n",
    "ini = 0\n"
   ],
   "outputs": [],
   "metadata": {}
  },
  {
   "cell_type": "code",
   "execution_count": null,
   "source": [
    "horas_data = []\n",
    "horas_count = []\n",
    "hount = 0\n",
    "for i in lista:\n",
    "    u_p1 = float(data[data['ts'] == i]['potencia 1'].values)/1000\n",
    "    p1_u.append(u_p1)\n",
    "    u_p2 = float(data[data['ts'] == i]['potencia 2'].values)/1000\n",
    "    p2_u.append(u_p2)\n",
    "    vol_u = float(data[data['ts'] == i]['voltaje'].values)\n",
    "    carga = u_p1 + u_p2\n",
    "    consumo.append(carga)\n",
    "    tiempo = str(data[data['ts'] == i]['ts'].values)\n",
    "    fecha.append(tiempo.split(\"T\")[0][2:])\n",
    "    hora.append(tiempo.split(\"T\")[1][:8])\n",
    "    watt_hora = watt_hora + carga\n",
    "    hount = hount + 1\n",
    "    if j+1 < len(lista):\n",
    "        # pasado una hora\n",
    "        if hora_ini != int(str(lista[j+1])[11:13]):\n",
    "            kw_hora.append(watt_hora/hount)\n",
    "            xhora.append(hora_ini)\n",
    "            hora_ini = int(str(lista[j+1])[11:13])\n",
    "            watt_dia = watt_dia + watt_hora/hount\n",
    "            watt_hora = 0\n",
    "            horas_data.append(i)\n",
    "            horas_count.append(hount)\n",
    "            hount = 0\n",
    "        # pasado un dia\n",
    "        if dia_ini != int(str(lista[j+1])[8:10]) and int(str(lista[j+1])[11:13]) == 0:\n",
    "            kw_dia.append(watt_dia)\n",
    "            xdia.append(dia_ini)\n",
    "            watt_dia = 0\n",
    "            #ini = j + 1\n",
    "            dias = dias + 1\n",
    "            dia_ini = int(str(lista[j+1])[8:10])\n",
    "        j = j+1\n",
    "\n",
    "dias\n"
   ],
   "outputs": [],
   "metadata": {}
  },
  {
   "cell_type": "code",
   "execution_count": null,
   "source": [
    "h_data = pd.DataFrame({\n",
    "    'ultimo dato' : horas_data,\n",
    "    'datos' : horas_count\n",
    "})\n",
    "h_data.to_csv('./horas.csv')"
   ],
   "outputs": [],
   "metadata": {}
  },
  {
   "cell_type": "code",
   "execution_count": null,
   "source": [
    "data_final = pd.DataFrame({\n",
    "    'hora' :hora,\n",
    "    'fecha': fecha,\n",
    "    'P1' :p1_u,\n",
    "    'P2' :p2_u,\n",
    "    'consumo': consumo\n",
    "    })"
   ],
   "outputs": [],
   "metadata": {}
  },
  {
   "cell_type": "code",
   "execution_count": null,
   "source": [
    "data_xhoras = pd.DataFrame({\n",
    "    'hora' : xhora,\n",
    "    'consumo' : kw_hora\n",
    "})"
   ],
   "outputs": [],
   "metadata": {}
  },
  {
   "cell_type": "code",
   "execution_count": null,
   "source": [
    "data_xdia = pd.DataFrame({\n",
    "    'dia' : xdia,\n",
    "    'consumo' : kw_dia\n",
    "})"
   ],
   "outputs": [],
   "metadata": {}
  },
  {
   "cell_type": "code",
   "execution_count": null,
   "source": [
    "data_final.to_csv('./final.csv')\n",
    "data_xhoras.to_csv('./kw_hora.csv')\n",
    "data_xdia.to_csv('./kw_dia.csv')"
   ],
   "outputs": [],
   "metadata": {}
  }
 ],
 "metadata": {
  "interpreter": {
   "hash": "082e9a3bcad0a290d0001e938aa60b99250c6c2ef33a923c00b70f9826caf4b7"
  },
  "kernelspec": {
   "name": "python3",
   "display_name": "Python 3.8.5 64-bit"
  },
  "language_info": {
   "codemirror_mode": {
    "name": "ipython",
    "version": 3
   },
   "file_extension": ".py",
   "mimetype": "text/x-python",
   "name": "python",
   "nbconvert_exporter": "python",
   "pygments_lexer": "ipython3",
   "version": "3.8.5"
  },
  "orig_nbformat": 4
 },
 "nbformat": 4,
 "nbformat_minor": 2
}