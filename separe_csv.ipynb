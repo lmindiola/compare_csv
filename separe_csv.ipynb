{
 "cells": [
  {
   "cell_type": "code",
   "execution_count": null,
   "metadata": {},
   "outputs": [],
   "source": [
    "import pandas as pd\n",
    "import csv"
   ]
  },
  {
   "cell_type": "code",
   "execution_count": null,
   "metadata": {},
   "outputs": [],
   "source": [
    "data = pd.read_csv('../../data/u_watt_office.csv',sep=';')\n",
    "data"
   ]
  },
  {
   "cell_type": "code",
   "execution_count": null,
   "metadata": {},
   "outputs": [],
   "source": [
    "p1_u = []\n",
    "p2_u = []\n",
    "consumo = []\n",
    "vol_u = []\n",
    "hora = []\n",
    "fecha = []\n",
    "dias = 0\n",
    "ts = []\n",
    "\n",
    "watt_hora = 0\n",
    "kw_hora = []\n",
    "xhora = []\n",
    "voltsHora = []\n",
    "ampsHora = []\n",
    "hora_volt = 0\n",
    "hora_amp = 0\n",
    "datosHora = []\n",
    "\n",
    "watt_dia = 0\n",
    "kw_dia = []\n",
    "xdia = []\n",
    "\n",
    "lista = list(data['ts'])\n",
    "dia_ini = int(str(lista[0])[8:10])\n",
    "hora_ini = int(str(lista[0])[11:13])\n",
    "\n",
    "j=0\n",
    "ini = 0\n"
   ]
  },
  {
   "cell_type": "code",
   "execution_count": null,
   "metadata": {},
   "outputs": [],
   "source": [
    "horas_data = []\n",
    "horas_count = []\n",
    "hount = 0\n",
    "timezone = 0 \n",
    "for i in lista:\n",
    "    # se obtienen los valores de sensores y voltaje \n",
    "    u_p1 = float(data[data['ts'] == i]['Sensor 1'].values)\n",
    "    p1_u.append(u_p1)\n",
    "    u_p2 = float(data[data['ts'] == i]['Sensor 2'].values)\n",
    "    p2_u.append(u_p2)\n",
    "    vol = float(data[data['ts'] == i]['voltaje'].values)\n",
    "    vol_u.append(vol)\n",
    "    # se calcula la potencia en kw\n",
    "    carga = ((u_p1 + u_p2) * vol) /1000 \n",
    "    consumo.append(carga)\n",
    "    # se obtiene el tiempo y se separa por fecha y hora\n",
    "    tiempo = str(data[data['ts'] == i]['ts'].values)\n",
    "    #hora.append(tiempo.split(\"T\")[1][:8])\n",
    "    timezone = int(tiempo.split(\"T\")[1][:2])\n",
    "    if (timezone - 5) >= 0 :\n",
    "        timezone = str(int(tiempo.split(\"T\")[1][:2])-5)\n",
    "        hora.append(timezone+tiempo.split(\"T\")[1][2:8])\n",
    "        fecha.append(tiempo.split(\"T\")[0][2:])\n",
    "        #print(timezone + tiempo.split(\"T\")[1][2:8])\n",
    "    else :\n",
    "        timezone = str(int(tiempo.split(\"T\")[1][:2])+19)\n",
    "        hora.append(timezone+tiempo.split(\"T\")[1][2:8])\n",
    "        fecha.append(fecha[hount-1])\n",
    "    # datos para utilizarlo a la hora\n",
    "    #ts.append(tiempo)\n",
    "    ts.append(fecha[j]+\"T\"+hora[j])\n",
    "    watt_hora = watt_hora + carga\n",
    "    hora_amp = hora_amp + (u_p1 + u_p2)\n",
    "    hora_volt = hora_volt + vol\n",
    "    hount = hount + 1\n",
    "    if j+1 < len(lista):\n",
    "        # pasado una hora\n",
    "        if hora_ini != int(str(lista[j+1])[11:13]):\n",
    "            kw_hora.append(watt_hora/hount)\n",
    "            xhora.append(hora_ini)\n",
    "            hora_ini = int(str(lista[j+1])[11:13])\n",
    "            watt_dia = watt_dia + watt_hora/hount\n",
    "            watt_hora = 0\n",
    "            horas_data.append(i)\n",
    "            horas_count.append(hount)\n",
    "            ampsHora.append(hora_amp/hount)\n",
    "            voltsHora.append(hora_volt/hount)\n",
    "            datosHora.append(hount)\n",
    "            hora_amp = 0\n",
    "            hora_volt = 0\n",
    "            hount = 0\n",
    "        # pasado un dia\n",
    "        if dia_ini != int(str(lista[j+1])[8:10]) and int(str(lista[j+1])[11:13]) == 0:\n",
    "            kw_dia.append(watt_dia)\n",
    "            xdia.append(dia_ini)\n",
    "            watt_dia = 0\n",
    "            #ini = j + 1\n",
    "            dias = dias + 1\n",
    "            dia_ini = int(str(lista[j+1])[8:10])\n",
    "        j = j+1\n",
    "\n",
    "dias\n"
   ]
  },
  {
   "cell_type": "code",
   "execution_count": null,
   "metadata": {},
   "outputs": [],
   "source": [
    "h_data = pd.DataFrame({\n",
    "    'ultimo dato' : horas_data,\n",
    "    'datos' : horas_count\n",
    "})\n",
    "h_data.to_csv('./horas.csv')"
   ]
  },
  {
   "cell_type": "code",
   "execution_count": null,
   "metadata": {},
   "outputs": [],
   "source": [
    "data_final = pd.DataFrame({\n",
    "    'ts' : ts,\n",
    "    'hora' :hora,\n",
    "    'fecha': fecha,\n",
    "    'S1' :p1_u,\n",
    "    'S2' :p2_u,\n",
    "    'Volts' : vol_u,\n",
    "    'kW': consumo\n",
    "    })"
   ]
  },
  {
   "cell_type": "code",
   "execution_count": null,
   "metadata": {},
   "outputs": [],
   "source": [
    "data_xhoras = pd.DataFrame({\n",
    "    'hora' : xhora,\n",
    "    'kwh' : kw_hora,\n",
    "    'Amps' : ampsHora,\n",
    "    'volt' : voltsHora,\n",
    "    'datos' : datosHora\n",
    "})"
   ]
  },
  {
   "cell_type": "code",
   "execution_count": null,
   "metadata": {},
   "outputs": [],
   "source": [
    "data_xdia = pd.DataFrame({\n",
    "    'dia' : xdia,\n",
    "    'consumo' : kw_dia\n",
    "})"
   ]
  },
  {
   "cell_type": "code",
   "execution_count": null,
   "metadata": {},
   "outputs": [],
   "source": [
    "data_final.to_csv('./final.csv')\n",
    "data_xhoras.to_csv('./kw_hora.csv')\n",
    "data_xdia.to_csv('./kw_dia.csv')"
   ]
  }
 ],
 "metadata": {
  "interpreter": {
   "hash": "aee8b7b246df8f9039afb4144a1f6fd8d2ca17a180786b69acc140d282b71a49"
  },
  "kernelspec": {
   "display_name": "Python 3.8.5 64-bit",
   "name": "python3"
  },
  "language_info": {
   "codemirror_mode": {
    "name": "ipython",
    "version": 3
   },
   "file_extension": ".py",
   "mimetype": "text/x-python",
   "name": "python",
   "nbconvert_exporter": "python",
   "pygments_lexer": "ipython3",
   "version": "3.8.5"
  },
  "orig_nbformat": 4
 },
 "nbformat": 4,
 "nbformat_minor": 2
}
