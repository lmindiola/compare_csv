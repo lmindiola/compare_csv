{
 "cells": [
  {
   "cell_type": "code",
   "execution_count": 3,
   "source": [
    "import pandas as pd\n",
    "import csv"
   ],
   "outputs": [],
   "metadata": {}
  },
  {
   "cell_type": "code",
   "execution_count": 5,
   "source": [
    "data = pd.read_csv('../../data/data1.csv',sep=';')\n",
    "data"
   ],
   "outputs": [
    {
     "output_type": "execute_result",
     "data": {
      "text/html": [
       "<div>\n",
       "<style scoped>\n",
       "    .dataframe tbody tr th:only-of-type {\n",
       "        vertical-align: middle;\n",
       "    }\n",
       "\n",
       "    .dataframe tbody tr th {\n",
       "        vertical-align: top;\n",
       "    }\n",
       "\n",
       "    .dataframe thead th {\n",
       "        text-align: right;\n",
       "    }\n",
       "</style>\n",
       "<table border=\"1\" class=\"dataframe\">\n",
       "  <thead>\n",
       "    <tr style=\"text-align: right;\">\n",
       "      <th></th>\n",
       "      <th>ts</th>\n",
       "      <th>Consumo</th>\n",
       "      <th>Sensor 1</th>\n",
       "      <th>Sensor 2</th>\n",
       "      <th>potencia 1</th>\n",
       "      <th>potencia 2</th>\n",
       "      <th>voltaje</th>\n",
       "    </tr>\n",
       "  </thead>\n",
       "  <tbody>\n",
       "    <tr>\n",
       "      <th>0</th>\n",
       "      <td>2021-07-06T05:00:21.779Z</td>\n",
       "      <td>32.345627</td>\n",
       "      <td>16.006992</td>\n",
       "      <td>16.338636</td>\n",
       "      <td>2017.132202</td>\n",
       "      <td>2058.924561</td>\n",
       "      <td>126.015694</td>\n",
       "    </tr>\n",
       "    <tr>\n",
       "      <th>1</th>\n",
       "      <td>2021-07-06T05:01:21.784Z</td>\n",
       "      <td>32.261688</td>\n",
       "      <td>16.060499</td>\n",
       "      <td>16.201187</td>\n",
       "      <td>2025.656250</td>\n",
       "      <td>2043.400635</td>\n",
       "      <td>126.126602</td>\n",
       "    </tr>\n",
       "    <tr>\n",
       "      <th>2</th>\n",
       "      <td>2021-07-06T05:02:21.782Z</td>\n",
       "      <td>33.683365</td>\n",
       "      <td>17.261465</td>\n",
       "      <td>16.421902</td>\n",
       "      <td>2176.436523</td>\n",
       "      <td>2070.578857</td>\n",
       "      <td>126.086426</td>\n",
       "    </tr>\n",
       "    <tr>\n",
       "      <th>3</th>\n",
       "      <td>2021-07-06T05:03:21.783Z</td>\n",
       "      <td>32.975597</td>\n",
       "      <td>16.544708</td>\n",
       "      <td>16.430889</td>\n",
       "      <td>2088.793213</td>\n",
       "      <td>2074.423340</td>\n",
       "      <td>126.251442</td>\n",
       "    </tr>\n",
       "    <tr>\n",
       "      <th>4</th>\n",
       "      <td>2021-07-06T05:04:21.785Z</td>\n",
       "      <td>38.917267</td>\n",
       "      <td>19.563198</td>\n",
       "      <td>19.354067</td>\n",
       "      <td>2466.679932</td>\n",
       "      <td>2440.311035</td>\n",
       "      <td>126.087761</td>\n",
       "    </tr>\n",
       "    <tr>\n",
       "      <th>...</th>\n",
       "      <td>...</td>\n",
       "      <td>...</td>\n",
       "      <td>...</td>\n",
       "      <td>...</td>\n",
       "      <td>...</td>\n",
       "      <td>...</td>\n",
       "      <td>...</td>\n",
       "    </tr>\n",
       "    <tr>\n",
       "      <th>38413</th>\n",
       "      <td>2021-08-06T04:55:35.810Z</td>\n",
       "      <td>12.799702</td>\n",
       "      <td>6.239447</td>\n",
       "      <td>6.560254</td>\n",
       "      <td>784.612549</td>\n",
       "      <td>824.954163</td>\n",
       "      <td>125.750336</td>\n",
       "    </tr>\n",
       "    <tr>\n",
       "      <th>38414</th>\n",
       "      <td>2021-08-06T04:56:35.815Z</td>\n",
       "      <td>12.842651</td>\n",
       "      <td>6.210476</td>\n",
       "      <td>6.632175</td>\n",
       "      <td>781.996704</td>\n",
       "      <td>835.095337</td>\n",
       "      <td>125.915749</td>\n",
       "    </tr>\n",
       "    <tr>\n",
       "      <th>38415</th>\n",
       "      <td>2021-08-06T04:57:35.811Z</td>\n",
       "      <td>12.731081</td>\n",
       "      <td>6.157272</td>\n",
       "      <td>6.573810</td>\n",
       "      <td>775.474243</td>\n",
       "      <td>827.934875</td>\n",
       "      <td>125.944458</td>\n",
       "    </tr>\n",
       "    <tr>\n",
       "      <th>38416</th>\n",
       "      <td>2021-08-06T04:58:35.821Z</td>\n",
       "      <td>12.989143</td>\n",
       "      <td>6.247071</td>\n",
       "      <td>6.742072</td>\n",
       "      <td>786.553345</td>\n",
       "      <td>848.877625</td>\n",
       "      <td>125.907539</td>\n",
       "    </tr>\n",
       "    <tr>\n",
       "      <th>38417</th>\n",
       "      <td>2021-08-06T04:59:35.815Z</td>\n",
       "      <td>12.929454</td>\n",
       "      <td>6.243504</td>\n",
       "      <td>6.685950</td>\n",
       "      <td>785.174500</td>\n",
       "      <td>840.815857</td>\n",
       "      <td>125.758629</td>\n",
       "    </tr>\n",
       "  </tbody>\n",
       "</table>\n",
       "<p>38418 rows × 7 columns</p>\n",
       "</div>"
      ],
      "text/plain": [
       "                             ts    Consumo   Sensor 1   Sensor 2   potencia 1  \\\n",
       "0      2021-07-06T05:00:21.779Z  32.345627  16.006992  16.338636  2017.132202   \n",
       "1      2021-07-06T05:01:21.784Z  32.261688  16.060499  16.201187  2025.656250   \n",
       "2      2021-07-06T05:02:21.782Z  33.683365  17.261465  16.421902  2176.436523   \n",
       "3      2021-07-06T05:03:21.783Z  32.975597  16.544708  16.430889  2088.793213   \n",
       "4      2021-07-06T05:04:21.785Z  38.917267  19.563198  19.354067  2466.679932   \n",
       "...                         ...        ...        ...        ...          ...   \n",
       "38413  2021-08-06T04:55:35.810Z  12.799702   6.239447   6.560254   784.612549   \n",
       "38414  2021-08-06T04:56:35.815Z  12.842651   6.210476   6.632175   781.996704   \n",
       "38415  2021-08-06T04:57:35.811Z  12.731081   6.157272   6.573810   775.474243   \n",
       "38416  2021-08-06T04:58:35.821Z  12.989143   6.247071   6.742072   786.553345   \n",
       "38417  2021-08-06T04:59:35.815Z  12.929454   6.243504   6.685950   785.174500   \n",
       "\n",
       "        potencia 2     voltaje  \n",
       "0      2058.924561  126.015694  \n",
       "1      2043.400635  126.126602  \n",
       "2      2070.578857  126.086426  \n",
       "3      2074.423340  126.251442  \n",
       "4      2440.311035  126.087761  \n",
       "...            ...         ...  \n",
       "38413   824.954163  125.750336  \n",
       "38414   835.095337  125.915749  \n",
       "38415   827.934875  125.944458  \n",
       "38416   848.877625  125.907539  \n",
       "38417   840.815857  125.758629  \n",
       "\n",
       "[38418 rows x 7 columns]"
      ]
     },
     "metadata": {},
     "execution_count": 5
    }
   ],
   "metadata": {}
  },
  {
   "cell_type": "code",
   "execution_count": 7,
   "source": [
    "data.columns\n",
    "#data[data['ts']]"
   ],
   "outputs": [
    {
     "output_type": "execute_result",
     "data": {
      "text/plain": [
       "Index(['ts', 'Consumo', 'Sensor 1', 'Sensor 2', 'potencia 1', 'potencia 2',\n",
       "       'voltaje'],\n",
       "      dtype='object')"
      ]
     },
     "metadata": {},
     "execution_count": 7
    }
   ],
   "metadata": {}
  },
  {
   "cell_type": "code",
   "execution_count": 8,
   "source": [
    "p1_u = []\n",
    "p2_u = []\n",
    "consumo= []\n",
    "vol_u = []\n",
    "hora = []\n",
    "fecha = []\n",
    "for i in list(data['ts']):\n",
    "        u_p1 = float(data[data['ts']==i]['potencia 1'].values)\n",
    "        p1_u.append(u_p1)\n",
    "        u_p2    =   float(data[data['ts']==i]['potencia 2'].values)\n",
    "        p2_u.append(u_p2)\n",
    "        vol_u = float(data[data['ts']==i]['voltaje'].values)\n",
    "        consumo.append((u_p1+u_p2))\n",
    "        tiempo = data[data['ts']==i]['ts'].values\n",
    "        tiempo = str(data[data['ts']==i]['ts'].values)\n",
    "        corte = tiempo.split(\"T\")\n",
    "        fecha.append(tiempo.split(\"T\")[0])\n",
    "        hora.append(tiempo.split(\"T\")[1][:8])\n",
    "        #hora.append(i)\n",
    "        \n",
    "\n"
   ],
   "outputs": [],
   "metadata": {}
  },
  {
   "cell_type": "code",
   "execution_count": 11,
   "source": [
    "data_final = pd.DataFrame({\n",
    "    'hora' :hora,\n",
    "    'P1' :p1_u,\n",
    "    'P2' :p2_u,\n",
    "    'consumo': consumo\n",
    "    #'vol_u':vol_u\n",
    "    })"
   ],
   "outputs": [],
   "metadata": {}
  },
  {
   "cell_type": "code",
   "execution_count": 12,
   "source": [
    "#data_final"
   ],
   "outputs": [],
   "metadata": {}
  },
  {
   "cell_type": "code",
   "execution_count": 14,
   "source": [
    "data_final.to_csv('./final.csv')"
   ],
   "outputs": [],
   "metadata": {}
  },
  {
   "cell_type": "code",
   "execution_count": 16,
   "source": [
    "#tiempos = list(data['ts'])\n",
    "#tiempo = str(data[data['ts']==1]['ts'].values)\n",
    "#tiempo = str(tiempos[1])\n",
    "#tiempo"
   ],
   "outputs": [],
   "metadata": {}
  },
  {
   "cell_type": "code",
   "execution_count": 18,
   "source": [
    "#fecha = tiempo.split('T',1)[1][:8]\n",
    "#fecha = tiempo[0:len(tiempo.split(\"T\"))]\n",
    "#fecha[1][0:8]\n",
    "#fecha"
   ],
   "outputs": [],
   "metadata": {}
  }
 ],
 "metadata": {
  "interpreter": {
   "hash": "082e9a3bcad0a290d0001e938aa60b99250c6c2ef33a923c00b70f9826caf4b7"
  },
  "kernelspec": {
   "name": "python3",
   "display_name": "Python 3.8.5 64-bit"
  },
  "language_info": {
   "codemirror_mode": {
    "name": "ipython",
    "version": 3
   },
   "file_extension": ".py",
   "mimetype": "text/x-python",
   "name": "python",
   "nbconvert_exporter": "python",
   "pygments_lexer": "ipython3",
   "version": "3.8.5"
  },
  "orig_nbformat": 4
 },
 "nbformat": 4,
 "nbformat_minor": 2
}